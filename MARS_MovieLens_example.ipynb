{
 "cells": [
  {
   "cell_type": "code",
   "execution_count": 1,
   "metadata": {},
   "outputs": [
    {
     "name": "stderr",
     "output_type": "stream",
     "text": [
      "C:\\Users\\MSI\\anaconda3\\envs\\pyscience\\lib\\site-packages\\scipy\\__init__.py:146: UserWarning: A NumPy version >=1.16.5 and <1.23.0 is required for this version of SciPy (detected version 1.23.1\n",
      "  warnings.warn(f\"A NumPy version >={np_minversion} and <{np_maxversion}\"\n"
     ]
    }
   ],
   "source": [
    "import pandas as pd\n",
    "import numpy as np\n",
    "import random\n",
    "import math\n",
    "import os\n",
    "import matplotlib.pyplot as plt\n",
    "\n",
    "from sklearn.preprocessing import MinMaxScaler\n",
    "import mars    #Module of the proposed method, it contains all functions and methods explained in the paper\n",
    "from mars import MARS\n",
    "import metrics    #Proposed metrics module, it contains all metric functions explained in the paper\n",
    "\n",
    "DS = r'\\MovieLens'\n",
    "np.random.seed(1994)"
   ]
  },
  {
   "cell_type": "code",
   "execution_count": 2,
   "metadata": {},
   "outputs": [],
   "source": [
    "# Get the directory where the data is\n",
    "outdir = r\"Data\" + str(DS)"
   ]
  },
  {
   "cell_type": "code",
   "execution_count": 3,
   "metadata": {},
   "outputs": [],
   "source": [
    "# Get the prices/profit of each item in the data set\n",
    "df_price =pd.read_csv(outdir + \"\\item_profit.csv\", engine='python',index_col=0,header=0)\n",
    "price_df = df_price.copy()"
   ]
  },
  {
   "cell_type": "code",
   "execution_count": 4,
   "metadata": {},
   "outputs": [],
   "source": [
    "#Get MovieLens1-M ratings\n",
    "rating_df = pd.read_csv(outdir + r'\\ratings.csv',header=0)"
   ]
  },
  {
   "cell_type": "code",
   "execution_count": 5,
   "metadata": {},
   "outputs": [
    {
     "name": "stdout",
     "output_type": "stream",
     "text": [
      "(6040, 3706)\n"
     ]
    }
   ],
   "source": [
    "#MovieLens1-M data preprocesing\n",
    "rating_df.drop('timestamp', axis=1,inplace=True)\n",
    "users = rating_df['user_id'].nunique()\n",
    "items = rating_df['movie_id'].nunique()\n",
    "rating_df['user_id']=rating_df['user_id'].astype('category').cat.codes\n",
    "rating_df['movie_id']=rating_df['movie_id'].astype('category').cat.codes\n",
    "\n",
    "#Creation of sparce rating matrix of size (users x items)\n",
    "rating_df = rating_df.to_numpy()\n",
    "rating_matrix = np.zeros((users,items), dtype='int8')\n",
    "for rating in rating_df:\n",
    "    rating_matrix[rating[0]][rating[1]] = rating[2]\n",
    "print(rating_matrix.shape)"
   ]
  },
  {
   "cell_type": "code",
   "execution_count": 6,
   "metadata": {},
   "outputs": [
    {
     "name": "stdout",
     "output_type": "stream",
     "text": [
      "(6040, 3706)\n"
     ]
    }
   ],
   "source": [
    "#Get predicted matrix (R^*)\n",
    "nR = pd.read_csv(outdir + r'\\MF_matrix.csv', header=None)\n",
    "nR = nR.to_numpy()\n",
    "print(nR.shape)"
   ]
  },
  {
   "cell_type": "code",
   "execution_count": 7,
   "metadata": {},
   "outputs": [
    {
     "name": "stdout",
     "output_type": "stream",
     "text": [
      "Accuracy R vs R^*\n",
      "Sparcity =  0.044683625622312845\n",
      "MAE =  0.6963651619429324\n",
      "RMSE =  0.8887821070861819\n"
     ]
    }
   ],
   "source": [
    "#Compare actual vs predicted (R vs R^*) and get metrics\n",
    "print('Accuracy R vs R^*')\n",
    "print('Sparcity = ',rating_df.shape[0]/(users*items))\n",
    "print('MAE = ',metrics.rating_mae(rating_matrix,nR))\n",
    "print('RMSE = ',metrics.rating_rmse(rating_matrix,nR))"
   ]
  },
  {
   "cell_type": "code",
   "execution_count": 8,
   "metadata": {},
   "outputs": [],
   "source": [
    "#Set hyperparameters\n",
    "th =3.5     #High rating threshold\n",
    "tr = 4.5    #Ranking threshold\n",
    "N=20        #TopN items\n",
    "impact = 0.40    #Desired impact for the optimization process\n",
    "acceptance = 0.02    #Tolerance for the optimization process\n",
    "max_iter=20\n",
    "max_iter2=20\n",
    "lr=4"
   ]
  },
  {
   "cell_type": "code",
   "execution_count": 9,
   "metadata": {},
   "outputs": [],
   "source": [
    "score_df = pd.DataFrame(columns=['Accuracy','Impact','NDCG','RMSE','MAE','Presicion','Avg. Profit','Items'])\n",
    "sc_ind = []    #List of index, Name of each method."
   ]
  },
  {
   "cell_type": "code",
   "execution_count": 10,
   "metadata": {},
   "outputs": [
    {
     "name": "stdout",
     "output_type": "stream",
     "text": [
      "Starting weights optimization process...\n",
      "Cost=  0.43267384105960266 Impact=  0.6642301324503248\n",
      "Cost=  0.4002152317880795 Impact=  0.6347516556291348\n",
      "Cost=  0.35873344370860927 Impact=  0.5931705298013232\n",
      "Cost=  0.3241473509933775 Impact=  0.5580215231788052\n",
      "Cost=  0.3066556291390728 Impact=  0.5399668874172177\n",
      "Cost=  0.3000496688741721 Impact=  0.5336423841059635\n",
      "Cost=  0.2956870860927152 Impact=  0.5293460264900727\n",
      "Cost=  0.29280629139072845 Impact=  0.5266804635761677\n",
      "Cost=  0.29039735099337743 Impact=  0.524519867549679\n",
      "Cost=  0.2887996688741722 Impact=  0.5231374172185544\n",
      "Cost=  0.2874668874172185 Impact=  0.5216887417218669\n",
      "Cost=  0.28681291390728475 Impact=  0.5211009933774962\n",
      "12\n",
      "... finishing optimization process.\n"
     ]
    }
   ],
   "source": [
    "#Proposed method (MARS)\n",
    "\n",
    "profit_vec=price_df[['profit']].to_numpy()\n",
    "\n",
    "#Create MARS model based on nR\n",
    "mars_model = MARS(nR)\n",
    "#Define and Transform the attributes\n",
    "mars_model.to_rank(vectors=profit_vec, tensor=None)\n",
    "\n",
    "\n",
    "#Training process to obtain the weights to get the desired impact or lower\n",
    "print('Starting weights optimization process...')\n",
    "mars_model.weights_optimization(impact=impact,tol=acceptance,W=2,tr=tr,N=N,\n",
    "                                iterations=max_iter,s_iterations=max_iter2,lr=lr,uf=0.97,auf=1.5)\n",
    "print('... finishing optimization process.')\n",
    "\n",
    "#Get MARS model with the optimal weights\n",
    "mars_rat_mat = mars_model.get_mars(tr,mars_model.weights)\n",
    "\n",
    "#Recommend TopN items to all the users\n",
    "rec_list_usersnR = mars.topN_rec(N,nR)    #TopN recommendations in the standard method\n",
    "rec_list_users = mars.topN_rec(N,-mars_rat_mat)    #TopN recommendations in MARS method\n",
    "\n",
    "#Obtain metrics comparing standard vs MARS\n",
    "profitMARS, pful_MARS = metrics.get_average_profit(rec_list_users, price_df['profit'])\n",
    "unique2 = np.unique(rec_list_users)\n",
    "acc2 = metrics.accuracy_in_recommendations(rec_list_usersnR,rec_list_users)\n",
    "rmse2, mae2 = metrics.rmse_mae(nR,rec_list_users)\n",
    "\n",
    "#Save scores in Dataframe\n",
    "score_df = score_df.append({'Accuracy': acc2,\n",
    "                            'Impact':1-acc2,\n",
    "                            'NDCG':metrics.get_NDCG(nR,rec_list_usersnR,rec_list_users)[0], \n",
    "                            'RMSE':rmse2,\n",
    "                            'MAE':mae2,\n",
    "                            'Presicion':metrics.presicion_in_recommendations(rating_matrix, rec_list_users,th)[0],\n",
    "                            'Avg. Profit':profitMARS,\n",
    "                            'Items': len(unique2)}, ignore_index=True)\n",
    "\n",
    "w_sum = mars_model.weights.sum(axis=0)\n",
    "sc_ind.append('MARS('+str(round(w_sum[0]/w_sum[1],4))+')')"
   ]
  },
  {
   "cell_type": "code",
   "execution_count": 11,
   "metadata": {},
   "outputs": [],
   "source": [
    "#Standard method\n",
    "sc_ind.append('Standard')\n",
    "\n",
    "#Obtain metrics for standard model\n",
    "uniquenR = np.unique(rec_list_usersnR)\n",
    "profitnR, pful_nR = metrics.get_average_profit(rec_list_usersnR, price_df['profit'])\n",
    "rmse1, mae1 = metrics.rmse_mae(nR,rec_list_usersnR)\n",
    "acc = metrics.accuracy_in_recommendations(rec_list_usersnR,rec_list_usersnR)\n",
    "\n",
    "#Save scores in Dataframe\n",
    "score_df = score_df.append({'Accuracy':acc,\n",
    "                            'Impact':1-acc,\n",
    "                            'NDCG':metrics.get_NDCG(nR,rec_list_usersnR,rec_list_usersnR)[0],\n",
    "                            'RMSE':rmse1,\n",
    "                            'MAE':mae1,\n",
    "                            'Presicion':metrics.presicion_in_recommendations(rating_matrix, rec_list_usersnR,th)[0],\n",
    "                            'Avg. Profit':profitnR,\n",
    "                            'Items': len(uniquenR)}, ignore_index=True)\n"
   ]
  },
  {
   "cell_type": "code",
   "execution_count": 12,
   "metadata": {},
   "outputs": [],
   "source": [
    "#Method proposed by Jannach & Adomavicius (2017) (Baseline)\n",
    "sc_ind.append('Baseline')\n",
    "\n",
    "#Get baseline model\n",
    "var = 'profit'\n",
    "profit = price_df[var]\n",
    "rank_x = np.array([1/(profit[i]+1) for i in range(len(profit))])\n",
    "jan_rat_mat = mars.baseline(nR, rank_x, th,tr)\n",
    "\n",
    "#TopN recommendations in baseline model\n",
    "rec_list_jan = mars.topN_rec(N,-jan_rat_mat)\n",
    "\n",
    "#Obtain metrics comparing baseline vs MARS\n",
    "rmse1, mae1 = metrics.rmse_mae(nR,rec_list_jan)\n",
    "profitJAN, pful_JAN = metrics.get_average_profit(rec_list_jan, price_df['profit'])\n",
    "unique = np.unique(rec_list_jan)\n",
    "acc = metrics.accuracy_in_recommendations(rec_list_usersnR,rec_list_jan)\n",
    "\n",
    "#Save scores in Dataframe\n",
    "score_df = score_df.append({'Accuracy': acc,\n",
    "                            'Impact':1-acc,\n",
    "                            'NDCG':metrics.get_NDCG(nR,rec_list_usersnR,rec_list_jan)[0],\n",
    "                            'RMSE':rmse1,\n",
    "                            'MAE':mae1,\n",
    "                            'Presicion':metrics.presicion_in_recommendations(rating_matrix, rec_list_jan,th)[0],\n",
    "                            'Avg. Profit':profitJAN,\n",
    "                            'Items': len(unique)}, ignore_index=True)"
   ]
  },
  {
   "cell_type": "code",
   "execution_count": 13,
   "metadata": {},
   "outputs": [
    {
     "data": {
      "text/html": [
       "<div>\n",
       "<style scoped>\n",
       "    .dataframe tbody tr th:only-of-type {\n",
       "        vertical-align: middle;\n",
       "    }\n",
       "\n",
       "    .dataframe tbody tr th {\n",
       "        vertical-align: top;\n",
       "    }\n",
       "\n",
       "    .dataframe thead th {\n",
       "        text-align: right;\n",
       "    }\n",
       "</style>\n",
       "<table border=\"1\" class=\"dataframe\">\n",
       "  <thead>\n",
       "    <tr style=\"text-align: right;\">\n",
       "      <th></th>\n",
       "      <th>Accuracy</th>\n",
       "      <th>Impact</th>\n",
       "      <th>NDCG</th>\n",
       "      <th>RMSE</th>\n",
       "      <th>MAE</th>\n",
       "      <th>Presicion</th>\n",
       "      <th>Avg. Profit</th>\n",
       "      <th>Items</th>\n",
       "    </tr>\n",
       "  </thead>\n",
       "  <tbody>\n",
       "    <tr>\n",
       "      <th>MARS(2.9679)</th>\n",
       "      <td>0.836821</td>\n",
       "      <td>0.163179</td>\n",
       "      <td>0.985710</td>\n",
       "      <td>6.263133</td>\n",
       "      <td>4.747417</td>\n",
       "      <td>0.905954</td>\n",
       "      <td>46.379051</td>\n",
       "      <td>2269.0</td>\n",
       "    </tr>\n",
       "    <tr>\n",
       "      <th>Standard</th>\n",
       "      <td>1.000000</td>\n",
       "      <td>0.000000</td>\n",
       "      <td>1.000000</td>\n",
       "      <td>0.000000</td>\n",
       "      <td>0.000000</td>\n",
       "      <td>0.903953</td>\n",
       "      <td>40.312550</td>\n",
       "      <td>2189.0</td>\n",
       "    </tr>\n",
       "    <tr>\n",
       "      <th>Baseline</th>\n",
       "      <td>0.305836</td>\n",
       "      <td>0.694164</td>\n",
       "      <td>0.884719</td>\n",
       "      <td>224.511339</td>\n",
       "      <td>188.383568</td>\n",
       "      <td>0.887083</td>\n",
       "      <td>64.982464</td>\n",
       "      <td>1839.0</td>\n",
       "    </tr>\n",
       "  </tbody>\n",
       "</table>\n",
       "</div>"
      ],
      "text/plain": [
       "              Accuracy    Impact      NDCG        RMSE         MAE  Presicion  \\\n",
       "MARS(2.9679)  0.836821  0.163179  0.985710    6.263133    4.747417   0.905954   \n",
       "Standard      1.000000  0.000000  1.000000    0.000000    0.000000   0.903953   \n",
       "Baseline      0.305836  0.694164  0.884719  224.511339  188.383568   0.887083   \n",
       "\n",
       "              Avg. Profit   Items  \n",
       "MARS(2.9679)    46.379051  2269.0  \n",
       "Standard        40.312550  2189.0  \n",
       "Baseline        64.982464  1839.0  "
      ]
     },
     "execution_count": 13,
     "metadata": {},
     "output_type": "execute_result"
    }
   ],
   "source": [
    "#Show metrics scores dataframe\n",
    "score_df.index = sc_ind\n",
    "score_df"
   ]
  },
  {
   "cell_type": "code",
   "execution_count": 14,
   "metadata": {},
   "outputs": [
    {
     "data": {
      "image/png": "[encoded data removed]",
      "text/plain": [
       "<Figure size 864x504 with 1 Axes>"
      ]
     },
     "metadata": {
      "needs_background": "light"
     },
     "output_type": "display_data"
    }
   ],
   "source": [
    "#Plot profit boxplot of the 3 methods\n",
    "fs=16\n",
    "plt.figure(figsize=(12,7))\n",
    "plt.title('Profit Boxplot',fontsize=fs)\n",
    "plt.boxplot([pful_nR,pful_JAN, pful_MARS],labels=['Standard','Baseline','MARS'])\n",
    "plt.grid(True, axis='y')\n",
    "\n",
    "\n",
    "plt.xticks(fontsize=fs)\n",
    "plt.yticks(fontsize=fs)\n",
    "plt.ylabel(\"Profit($)\",fontsize=fs)\n",
    "plt.show()"
   ]
  },
  {
   "cell_type": "code",
   "execution_count": 15,
   "metadata": {},
   "outputs": [
    {
     "data": {
      "image/png": "[encoded data removed]",
      "text/plain": [
       "<Figure size 864x504 with 1 Axes>"
      ]
     },
     "metadata": {
      "needs_background": "light"
     },
     "output_type": "display_data"
    }
   ],
   "source": [
    "#Plot profit histogram of the 3 methods\n",
    "plt.figure(figsize=(12,7))\n",
    "plt.title('Profit Histogram',fontsize=fs)\n",
    "plt.hist([pful_nR,pful_JAN,pful_MARS], bins=10,label = ['Standard','Baseline','MARS'])\n",
    "\n",
    "plt.legend(fontsize=fs)\n",
    "plt.xticks(fontsize=fs)\n",
    "plt.yticks(fontsize=fs)\n",
    "plt.xlabel(\"Profit($) per user at Top\"+str(N),fontsize=fs)\n",
    "plt.ylabel(\"Number of Users\",fontsize=fs) \n",
    "plt.show()"
   ]
  }
 ],
 "metadata": {
  "kernelspec": {
   "display_name": "Python 3 (ipykernel)",
   "language": "python",
   "name": "python3"
  },
  "language_info": {
   "codemirror_mode": {
    "name": "ipython",
    "version": 3
   },
   "file_extension": ".py",
   "mimetype": "text/x-python",
   "name": "python",
   "nbconvert_exporter": "python",
   "pygments_lexer": "ipython3",
   "version": "3.9.7"
  }
 },
 "nbformat": 4,
 "nbformat_minor": 4
}
